{
 "cells": [
  {
   "cell_type": "markdown",
   "metadata": {},
   "source": [
    "# Stock Price Prediction with ICICI Breeze API\n",
    "\n",
    "This notebook orchestrates the entire machine learning pipeline, from data collection and feature engineering to model training and prediction."
   ]
  },
  {
   "cell_type": "markdown",
   "metadata": {},
   "source": [
    "## 1. Environment Setup\n",
    "\n",
    "This section mounts Google Drive for data persistence, installs the necessary Python libraries, and clones the project repository from GitHub."
   ]
  },
  {
   "cell_type": "code",
   "execution_count": null,
   "metadata": {},
   "outputs": [],
   "source": [
    "# Step 1.1: Mount Google Drive\n",
    "from google.colab import drive\n",
    "drive.mount('/content/drive')"
   ]
  },
  {
   "cell_type": "code",
   "execution_count": null,
   "metadata": {},
   "outputs": [],
   "source": [
    "# Step 1.2: Install Dependencies\n",
    "# The 'breezesdk' is required for the ICICI Direct API.\n",
    "# The 'tqdm' library provides progress bars for long-running tasks.\n",
    "!pip install breezesdk tqdm -q"
   ]
  },
  {
   "cell_type": "code",
   "execution_count": null,
   "metadata": {},
   "outputs": [],
   "source": [
    "# Step 1.3: Clone your GitHub Repository\n",
    "# Replace the URL with your actual GitHub repository URL.\n",
    "!git clone https://github.com/PankajAgarwalS/Breeze/new/main/ /content/BreezeStockPredictor\n",
    "import sys\n",
    "sys.path.append('/content/BreezeStockPredictor')"
   ]
  },
  {
   "cell_type": "markdown",
   "metadata": {},
   "source": [
    "## 2. API Connection and Data Collection\n",
    "\n",
    "Connect to the ICICI Direct Breeze API and fetch historical data for the stocks listed in `stocknames.txt`."
   ]
  },
  {
   "cell_type": "code",
   "execution_count": null,
   "metadata": {},
   "outputs": [],
   "source": [
    "# Step 2.1: Import necessary modules\n",
    "import os\n",
    "from getpass import getpass\n",
    "from data_collector import initialize_api, fetch_historical_data"
   ]
  },
  {
   "cell_type": "code",
   "execution_count": null,
   "metadata": {},
   "outputs": [],
   "source": [
    "# Step 2.2: Enter API Credentials\n",
    "# Keep your credentials secure. Use getpass to avoid displaying them in the notebook.\n",
    "api_key = getpass('Enter your API Key: ')\n",
    "secret_key = getpass('Enter your Secret Key: ')\n",
    "session_token = getpass('Enter your Session Token: ')"
   ]
  },
  {
   "cell_type": "code",
   "execution_count": null,
   "metadata": {},
   "outputs": [],
   "source": [
    "# Step 2.3: Initialize the Breeze API\n",
    "breeze = initialize_api(api_key, secret_key, session_token)"
   ]
  },
  {
   "cell_type": "code",
   "execution_count": null,
   "metadata": {},
   "outputs": [],
   "source": [
    "# Step 2.4: Load Stock List and Fetch Data\n",
    "if breeze:\n",
    "    # Define the path to your data folder in Google Drive\n",
    "    GDRIVE_DATA_PATH = '/content/drive/MyDrive/BreezeStockData/'\n",
    "    if not os.path.exists(GDRIVE_DATA_PATH):\n",
    "        os.makedirs(GDRIVE_DATA_PATH)\n",
    "        \n",
    "    # Read stock codes from the text file in your cloned repo\n",
    "    with open('/content/BreezeStockPredictor/stocknames.txt', 'r') as f:\n",
    "        stock_list = [line.strip() for line in f.readlines()]\n",
    "\n",
    "    # Fetch the historical data using the function from our .py module\n",
    "    historical_data_df = fetch_historical_data(breeze, stock_list=stock_list, years=3)\n",
    "\n",
    "    if historical_data_df is not None and not historical_data_df.empty:\n",
    "        # Save the collected data to Google Drive for future use\n",
    "        output_path = os.path.join(GDRIVE_DATA_PATH, 'historical_data.csv')\n",
    "        historical_data_df.to_csv(output_path, index=False)\n",
    "        print(f\"\\n✅ Data saved successfully to: {output_path}\")\n",
    "        \n",
    "        # Display the first few rows of the collected data\n",
    "        print(\"\\n--- Data Preview ---\")\n",
    "        display(historical_data_df.head())\n",
    "else:\n",
    "    print(\"❌ API initialization failed. Please check your credentials and try again.\")"
   ]
  },
  {
   "cell_type": "markdown",
   "metadata": {},
   "source": [
    "## Next Steps: Feature Engineering\n",
    "\n",
    "With the data collected and stored, the next stage is to develop the `feature_engineer.py` module and add a corresponding section to this notebook."
   ]
  }
 ],
 "metadata": {
  "colab": {
   "name": "main.ipynb",
   "provenance": []
  },
  "kernelspec": {
   "display_name": "Python 3",
   "name": "python3"
  },
  "language_info": {
   "name": "python"
  }
 },
 "nbformat": 4,
 "nbformat_minor": 0
}
