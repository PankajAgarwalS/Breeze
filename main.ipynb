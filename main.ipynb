# %% [markdown]
# # Stock Price Prediction with ICICI Breeze API
# 
# This notebook orchestrates the entire machine learning pipeline, from data collection and feature engineering to model training and prediction.

# %% [markdown]
# ## 1. Environment Setup
# 
# This section mounts Google Drive for data persistence, installs the necessary Python libraries, and clones the project repository from GitHub.

# %%
# Step 1.1: Mount Google Drive
from google.colab import drive
drive.mount('/content/drive')

# %%
# Step 1.2: Install Dependencies
# The 'breezesdk' is required for the ICICI Direct API.
# The 'tqdm' library provides progress bars for long-running tasks.
!pip install breezesdk tqdm -q

# %%
# Step 1.3: Clone your GitHub Repository
# Replace the URL with your actual GitHub repository URL.
!git clone https://github.com/PankajAgarwalS/Breeze/new/main/ /content/BreezeStockPredictor
import sys
sys.path.append('/content/BreezeStockPredictor')


# %% [markdown]
# ## 2. API Connection and Data Collection
# 
# Connect to the ICICI Direct Breeze API and fetch historical data for the stocks listed in `stocknames.txt`.

# %%
# Step 2.1: Import necessary modules
import os
from getpass import getpass
from data_collector import initialize_api, fetch_historical_data

# %%
# Step 2.2: Enter API Credentials
# Keep your credentials secure. Use getpass to avoid displaying them in the notebook.
api_key = getpass('Enter your API Key: ')
secret_key = getpass('Enter your Secret Key: ')
session_token = getpass('Enter your Session Token: ')

# %%
# Step 2.3: Initialize the Breeze API
breeze = initialize_api(api_key, secret_key, session_token)

# %%
# Step 2.4: Load Stock List and Fetch Data
if breeze:
    # Define the path to your data folder in Google Drive
    GDRIVE_DATA_PATH = '/content/drive/MyDrive/BreezeStockData/'
    if not os.path.exists(GDRIVE_DATA_PATH):
        os.makedirs(GDRIVE_DATA_PATH)
        
    # Read stock codes from the text file in your cloned repo
    with open('/content/BreezeStockPredictor/stocknames.txt', 'r') as f:
        stock_list = [line.strip() for line in f.readlines()]

    # Fetch the historical data using the function from our .py module
    historical_data_df = fetch_historical_data(breeze, stock_list=stock_list, years=3)

    if historical_data_df is not None and not historical_data_df.empty:
        # Save the collected data to Google Drive for future use
        output_path = os.path.join(GDRIVE_DATA_PATH, 'historical_data.csv')
        historical_data_df.to_csv(output_path, index=False)
        print(f"\n✅ Data saved successfully to: {output_path}")
        
        # Display the first few rows of the collected data
        print("\n--- Data Preview ---")
        display(historical_data_df.head())
else:
    print("❌ API initialization failed. Please check your credentials and try again.")

# %% [markdown]
# ## Next Steps: Feature Engineering
# 
# With the data collected and stored, the next stage is to develop the `feature_engineer.py` module and add a corresponding section to this notebook.
